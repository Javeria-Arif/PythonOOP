{
  "nbformat": 4,
  "nbformat_minor": 0,
  "metadata": {
    "colab": {
      "name": "Python OOP Overview",
      "provenance": [],
      "authorship_tag": "ABX9TyNKku/7g6T3FoXxKfKz1ZgM",
      "include_colab_link": true
    },
    "kernelspec": {
      "name": "python3",
      "display_name": "Python 3"
    },
    "language_info": {
      "name": "python"
    }
  },
  "cells": [
    {
      "cell_type": "markdown",
      "metadata": {
        "id": "view-in-github",
        "colab_type": "text"
      },
      "source": [
        "<a href=\"https://colab.research.google.com/github/Javeria-Arif/PythonOOP/blob/main/Python_OOP_Overview.ipynb\" target=\"_parent\"><img src=\"https://colab.research.google.com/assets/colab-badge.svg\" alt=\"Open In Colab\"/></a>"
      ]
    },
    {
      "cell_type": "code",
      "execution_count": null,
      "metadata": {
        "colab": {
          "base_uri": "https://localhost:8080/"
        },
        "id": "NpNeo4F-imQC",
        "outputId": "edc4e4ea-d93e-46f2-c29e-32c2ae2f4128"
      },
      "outputs": [
        {
          "output_type": "stream",
          "name": "stdout",
          "text": [
            "First lesson\n",
            "First lesson\n",
            "First lesson\n"
          ]
        }
      ],
      "source": [
        "class Tutorial:\n",
        "  def lesson(self):\n",
        "    print('First lesson')\n",
        "\n",
        "tut = Tutorial()    \n",
        "tut2 = Tutorial()\n",
        "'''Tutorial.lesson()  \n",
        "There can me multiple of objects. Hence, we need to mention the objects'''\n",
        "tut.lesson()\n",
        "Tutorial.lesson(tut)\n",
        "Tutorial.lesson(tut2)\n"
      ]
    },
    {
      "cell_type": "markdown",
      "source": [
        "Constructor in Python"
      ],
      "metadata": {
        "id": "NYPi9FoomWP_"
      }
    },
    {
      "cell_type": "markdown",
      "source": [
        "__init__(): This special function gets called whenever a new object of that class is instantiated.\n",
        "\n",
        "This type of function is also called constructors in Object Oriented Programming (OOP). We normally use it to initialize all the variables."
      ],
      "metadata": {
        "id": "f7gtxatoQAtH"
      }
    },
    {
      "cell_type": "code",
      "source": [
        "class Image:\n",
        "\n",
        "  def __init__(self,eye_color,nose_shape,lip_color):\n",
        "    self.eye = eye_color\n",
        "    self.nose = nose_shape\n",
        "    self.lips = lip_color\n",
        "\n",
        "  def face(self):\n",
        "    print('The person has following features:', self.nose,'nose,',self.eye,'eyes &',self.lips,'lip color')\n",
        "\n",
        "\n",
        "img = Image('Blue','round','red')\n",
        "img.face()\n"
      ],
      "metadata": {
        "colab": {
          "base_uri": "https://localhost:8080/"
        },
        "id": "ZmeSpkw5mYaR",
        "outputId": "b4ef980e-419c-4827-85f8-252f4bbe5b44"
      },
      "execution_count": null,
      "outputs": [
        {
          "output_type": "stream",
          "name": "stdout",
          "text": [
            "The person has following features: round nose, Blue eyes & red lip color\n"
          ]
        }
      ]
    },
    {
      "cell_type": "markdown",
      "source": [
        "Significance of \"self\" in Python"
      ],
      "metadata": {
        "id": "CuDzAdgP46sR"
      }
    },
    {
      "cell_type": "code",
      "source": [
        "class Image:\n",
        "\n",
        "  def __init__(self):\n",
        "    self.eye = \"Hazel\"\n",
        "    self.nose = \"Pointed\"\n",
        "    self.lips = \"Orange\"\n",
        "\n",
        "  def face(self):\n",
        "    print('The person has following features:', self.nose,'nose,',self.eye,'eyes &',self.lips,'lip color')\n",
        "    \n",
        "  def update(self):\n",
        "    self.lips = \"Pink\"\n",
        "    print('The person has following features:', self.nose,'nose,',self.eye,'eyes &',self.lips,'lip color')\n",
        "\n",
        "img = Image()\n",
        "img1 = Image()\n",
        "img.face()\n",
        "img.update()\n",
        "img1.update()"
      ],
      "metadata": {
        "colab": {
          "base_uri": "https://localhost:8080/"
        },
        "id": "Mts7Yw2l46PD",
        "outputId": "edd5b370-765d-4559-8f1f-dc016d871e7d"
      },
      "execution_count": null,
      "outputs": [
        {
          "output_type": "stream",
          "name": "stdout",
          "text": [
            "The person has following features: Pointed nose, Hazel eyes & Orange lip color\n",
            "The person has following features: Pointed nose, Hazel eyes & Pink lip color\n",
            "The person has following features: Pointed nose, Hazel eyes & Pink lip color\n"
          ]
        }
      ]
    },
    {
      "cell_type": "markdown",
      "source": [
        "Comparing 2 objects' values"
      ],
      "metadata": {
        "id": "KDBeakowNox3"
      }
    },
    {
      "cell_type": "code",
      "source": [
        "class Image:\n",
        "\n",
        "  def __init__(self):\n",
        "    self.eye = \"Hazel\"\n",
        "    self.nose = \"Pointed\"\n",
        "    self.lips = \"Orange\"\n",
        "\n",
        "  def face(self):\n",
        "    print('The person has following features:', self.nose,'nose,',self.eye,'eyes &',self.lips,'lip color')\n",
        "    \n",
        "  def compare(self,second):          # compare(who's calling, whom to compare)\n",
        "    if self.lips == second.lips:\n",
        "      return True\n",
        "    else:\n",
        "      return False\n",
        "img = Image()\n",
        "img.lips = 'red'\n",
        "img1 = Image()\n",
        "img.compare(img1)"
      ],
      "metadata": {
        "colab": {
          "base_uri": "https://localhost:8080/"
        },
        "id": "qel9hmKiNyJt",
        "outputId": "98a565fe-f45f-4713-888f-fb15e76f8520"
      },
      "execution_count": null,
      "outputs": [
        {
          "output_type": "execute_result",
          "data": {
            "text/plain": [
              "False"
            ]
          },
          "metadata": {},
          "execution_count": 36
        }
      ]
    },
    {
      "cell_type": "markdown",
      "source": [
        "TYPES OF VARIABLES IN PYTHON"
      ],
      "metadata": {
        "id": "hLdhu4fQOnJr"
      }
    },
    {
      "cell_type": "markdown",
      "source": [
        "Class variables => static variables share the same value among all instances of the class. \n",
        "The value of instance variables can differ across each instance of a class.\n",
        "Class variables can only be assigned when a class has been defined. Instance variables, on the other hand, can be assigned or changed at any time."
      ],
      "metadata": {
        "id": "r6w1890UPtcU"
      }
    },
    {
      "cell_type": "code",
      "source": [
        "class coffeeShop:\n",
        "\n",
        "  tax = 12.12\n",
        "  def __init__(self):\n",
        "    self.coffeeType = 'Expresso'        #Instance Variable\n",
        "    self.price = 200                    #Instance Variable\n",
        "\n",
        "shop1 = coffeeShop()\n",
        "shop2 = coffeeShop()\n",
        "print( shop1.coffeeType )\n",
        "print( shop2.coffeeType )\n",
        "\n",
        "#Changing \"Instance variable\"\n",
        "shop1.price=150\n",
        "print(shop1.price)\n",
        "print(shop2.price)                      #Shop2's price doesnt change!\n",
        "\n",
        "#Changing \"Class variable\" for single object\n",
        "shop1.tax = 13.32\n",
        "print( shop1.tax )\n",
        "print( shop2.tax )\n",
        "\n",
        "#Changing \"Class variable\" for the whole class\n",
        "coffeeShop.tax = 13.32\n",
        "print( shop1.tax )\n",
        "print( shop2.tax )"
      ],
      "metadata": {
        "colab": {
          "base_uri": "https://localhost:8080/"
        },
        "id": "uMNPawVKOm2P",
        "outputId": "66e67425-d07e-493f-ac5a-e2cac1565b1e"
      },
      "execution_count": null,
      "outputs": [
        {
          "output_type": "stream",
          "name": "stdout",
          "text": [
            "Expresso\n",
            "Expresso\n",
            "150\n",
            "200\n",
            "13.32\n",
            "12.12\n"
          ]
        }
      ]
    },
    {
      "cell_type": "markdown",
      "source": [
        "**TYPES OF METHODS:**\n",
        "*Instance Methods\n",
        "*Class Methods \n",
        "*Static Methods"
      ],
      "metadata": {
        "id": "o0vygbGIS3zu"
      }
    },
    {
      "cell_type": "code",
      "source": [
        "class Employee:\n",
        "\n",
        "  organization = 'NED'\n",
        "  def __init__(self,name,salary,duration):\n",
        "    self.name = name\n",
        "    self.salary = salary\n",
        "    self.duration = duration\n",
        "  \n",
        "  def total_salary(self):\n",
        "    return (self.salary * self.duration)\n",
        "\n",
        "emp = Employee('Javeria',45000,3)\n",
        "emp1 = Employee('Sara',50000,8)\n",
        "print(emp.total_salary())\n",
        "print(emp.name,\"\\b's total salary is:\", emp.total_salary())  \n",
        "print(emp1.name,\"\\b's total salary is:\", emp1.total_salary())  "
      ],
      "metadata": {
        "colab": {
          "base_uri": "https://localhost:8080/"
        },
        "id": "A7-hM8lfTFSJ",
        "outputId": "616bfed0-5bdd-4720-8589-dcbb0b735242"
      },
      "execution_count": null,
      "outputs": [
        {
          "output_type": "stream",
          "name": "stdout",
          "text": [
            "135000\n",
            "Javeria \b's total salary is: 135000\n",
            "Sara \b's total salary is: 400000\n"
          ]
        }
      ]
    },
    {
      "cell_type": "markdown",
      "source": [
        "Accessor Method: This method is used to access the state of the object i.e, the data hidden in the object can be accessed from this method. However, this method cannot change the state of the object, it can only access the data hidden. We can name these methods with the word get. \n",
        " \n",
        "Mutator Method: This method is used to mutate/modify the state of an object i.e, it alters the hidden value of the data variable. It can set the value of a variable instantly to a new value. This method is also called as update method. Moreover, we can name these methods with the word set. \n",
        " "
      ],
      "metadata": {
        "id": "kuhFWHmXXg-z"
      }
    }
  ]
}