{
  "nbformat": 4,
  "nbformat_minor": 0,
  "metadata": {
    "colab": {
      "name": "Python OOP - Part 1",
      "provenance": [],
      "collapsed_sections": [],
      "authorship_tag": "ABX9TyOjlzfC9iRd1gTT3bKmI/4r",
      "include_colab_link": true
    },
    "kernelspec": {
      "name": "python3",
      "display_name": "Python 3"
    },
    "language_info": {
      "name": "python"
    }
  },
  "cells": [
    {
      "cell_type": "markdown",
      "metadata": {
        "id": "view-in-github",
        "colab_type": "text"
      },
      "source": [
        "<a href=\"https://colab.research.google.com/github/Javeria-Arif/PythonOOP/blob/main/Python_OOP_Part_1.ipynb\" target=\"_parent\"><img src=\"https://colab.research.google.com/assets/colab-badge.svg\" alt=\"Open In Colab\"/></a>"
      ]
    },
    {
      "cell_type": "code",
      "source": [
        "class Student:\n",
        "\n",
        "  def name(self):                                   #Method  => Function\n",
        "    print(\"this is the first student\")\n",
        "\n",
        "\n",
        "std = Student()       #std is an object of student class\n",
        "#obj_name.method_name()\n",
        "std.name()"
      ],
      "metadata": {
        "colab": {
          "base_uri": "https://localhost:8080/"
        },
        "id": "bIrIPbeh-Vk_",
        "outputId": "98ef0266-85d3-49dd-9d38-8d0acbd8d11e"
      },
      "execution_count": 3,
      "outputs": [
        {
          "output_type": "stream",
          "name": "stdout",
          "text": [
            "this is the first student\n"
          ]
        }
      ]
    },
    {
      "cell_type": "markdown",
      "source": [
        "Can a class have more than 1 object?"
      ],
      "metadata": {
        "id": "zdlMo8okBLo_"
      }
    },
    {
      "cell_type": "code",
      "source": [
        "class Employee:\n",
        "  def salary(self):         \n",
        "    print('The employee is earning enough')\n",
        "  \n",
        "emp1 = Employee()\n",
        "emp2 = Employee()\n",
        "\n",
        "emp1.salary()\n",
        "emp2.salary()"
      ],
      "metadata": {
        "colab": {
          "base_uri": "https://localhost:8080/"
        },
        "id": "Pp8uzqXQBQ_P",
        "outputId": "6d351510-351d-4ae1-f051-ca4675f6c62d"
      },
      "execution_count": 7,
      "outputs": [
        {
          "output_type": "stream",
          "name": "stdout",
          "text": [
            "The employee is earning enough\n",
            "The employee is earning enough\n"
          ]
        }
      ]
    },
    {
      "cell_type": "markdown",
      "source": [
        "# **CONSTRUCTOR IN PYTHON**"
      ],
      "metadata": {
        "id": "-u0RbrRYCE4t"
      }
    },
    {
      "cell_type": "code",
      "source": [
        "class Employee:\n",
        "\n",
        "  def __init__(self,name,role,duration,salary):\n",
        "    self.name = name                                     #Attributes\n",
        "    self.designation = role\n",
        "    self.duration = duration\n",
        "    self.salary = salary\n",
        "\n",
        "  def abcd(self):\n",
        "    print(\"employee name is\", self.name ,\"Employee works as a \",self.designation, self.duration)\n",
        "\n",
        "\n",
        "emp1 = Employee('javeria','software engineer','2years','25000')\n",
        "emp2 =Employee('Zoha','Teacher',\"1\",'40000')\n",
        "\n",
        "\n",
        "#emp2.print_statement()\n",
        "\n",
        "#Object can modify attributes\n",
        "emp1.name = 'ayesha'\n",
        "emp1.duration = \"0\"\n",
        "\n",
        "emp1.abcd()"
      ],
      "metadata": {
        "colab": {
          "base_uri": "https://localhost:8080/"
        },
        "id": "Qv7PBaMSCHcW",
        "outputId": "fd8dd45d-a665-46b9-8923-701be8efaf65"
      },
      "execution_count": 34,
      "outputs": [
        {
          "output_type": "stream",
          "name": "stdout",
          "text": [
            "employee name is ayesha Employee works as a  software engineer 0\n"
          ]
        }
      ]
    },
    {
      "cell_type": "code",
      "source": [
        "class Animal:\n",
        "\n",
        "  specie = 'cat'\n",
        "  language = 'meow'\n",
        "  \n",
        "  def speak(self):\n",
        "    print(\"i am a \", self.specie, \"and I\",self.language)\n",
        "\n",
        "animal = Animal()\n",
        "animal.speak()"
      ],
      "metadata": {
        "colab": {
          "base_uri": "https://localhost:8080/"
        },
        "id": "jTKWejgxHRn1",
        "outputId": "f29e13b9-608a-4148-ff9b-38446005f55e"
      },
      "execution_count": 29,
      "outputs": [
        {
          "output_type": "stream",
          "name": "stdout",
          "text": [
            "i am a  cat and I meow\n"
          ]
        }
      ]
    },
    {
      "cell_type": "code",
      "source": [
        "class Animal:\n",
        "\n",
        "  def __init__(self,specie,language):\n",
        "    self.specie = specie\n",
        "    self.lang = language\n",
        "\n",
        "  def speak(self):\n",
        "    print(\"i am a\", self.specie, \"and I\",self.lang)\n",
        "\n",
        "animal = Animal('dog','bark')\n",
        "animal.speak()\n",
        "animal2 = Animal('cow',\"moo\")\n",
        "animal2.speak()"
      ],
      "metadata": {
        "colab": {
          "base_uri": "https://localhost:8080/"
        },
        "id": "g4OwLT4bHz67",
        "outputId": "c29e53cb-02bb-4ae9-986c-b95eb3651738"
      },
      "execution_count": 36,
      "outputs": [
        {
          "output_type": "stream",
          "name": "stdout",
          "text": [
            "i am a dog and I bark\n",
            "i am a cow and I moo\n"
          ]
        }
      ]
    },
    {
      "cell_type": "code",
      "source": [
        "class Animal:\n",
        "  specie = 'cat'\n",
        "  lang = 'meow'\n",
        "\n",
        "  def setSpecie(self,s):\n",
        "    self.specie = s\n",
        "  def setLanguage(self,l):\n",
        "    self.lang = l\n",
        "\n",
        "  def speak(self):\n",
        "    print(self.specie,self.lang)\n",
        "\n",
        "animal = Animal()\n",
        "animal.speak()\n",
        "animal.setSpecie('dog')\n",
        "animal.setLanguage('bark')\n",
        "animal.speak()"
      ],
      "metadata": {
        "colab": {
          "base_uri": "https://localhost:8080/"
        },
        "id": "8G-THLhjJilw",
        "outputId": "07d8e4cd-6b0f-4001-c824-2e35faddaf8d"
      },
      "execution_count": 41,
      "outputs": [
        {
          "output_type": "stream",
          "name": "stdout",
          "text": [
            "cat meow\n",
            "dog bark\n"
          ]
        }
      ]
    }
  ]
}